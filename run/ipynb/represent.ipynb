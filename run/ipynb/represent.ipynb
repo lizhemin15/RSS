{
 "cells": [
  {
   "cell_type": "code",
   "execution_count": null,
   "metadata": {},
   "outputs": [],
   "source": [
    "# Tucker for random sampling\n",
    "import rss\n",
    "net = rss.get_nn({'net_name':'MLP','dim_in':2,'dim_out':1,'activation':'relu'}) \n",
    "# 'SIREN' 'WIRE' 'FourierNet' 'GaborNet' 'MLP' 'BACON' 'HashINR' 'DINER' 'SIMINER'"
   ]
  }
 ],
 "metadata": {
  "language_info": {
   "name": "python"
  },
  "orig_nbformat": 4
 },
 "nbformat": 4,
 "nbformat_minor": 2
}
