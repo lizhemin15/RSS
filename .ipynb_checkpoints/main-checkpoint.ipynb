{
 "cells": [
  {
   "cell_type": "code",
   "execution_count": 2,
   "id": "2ef4efac",
   "metadata": {},
   "outputs": [
    {
     "name": "stdout",
     "output_type": "stream",
     "text": [
      "net_p : {'net_name': 'MLP'}\n",
      "noise_p : b\n",
      "reg_p : {'s': 1}\n",
      "data_p : None\n",
      "task_p : None\n",
      "train_p : None\n",
      "show_p : None\n",
      "save_p : None\n",
      "INR(\n",
      "  (layers): ModuleList(\n",
      "    (0): Layer()\n",
      "    (1): Layer()\n",
      "    (2): Layer()\n",
      "    (3): Layer()\n",
      "  )\n",
      "  (last_layer): Layer()\n",
      ")\n"
     ]
    }
   ],
   "source": [
    "import rss\n",
    "\n",
    "parameters = {}\n",
    "\n",
    "parameters['net_p']={'net_name':'MLP'}\n",
    "\n",
    "rssnet = rss.rssnet(parameters)\n",
    "print(rssnet.net)"
   ]
  },
  {
   "cell_type": "code",
   "execution_count": null,
   "id": "63a98db5",
   "metadata": {},
   "outputs": [],
   "source": [
    "```python\n",
    "import json\n",
    "\n",
    "dict_data = {\n",
    "    \"name\": \"John\",\n",
    "    \"age\": 30,\n",
    "    \"city\": \"New York\"\n",
    "}\n",
    "\n",
    "with open(\"data.json\", \"w\") as outfile:\n",
    "    json.dump(dict_data, outfile)\n",
    "```"
   ]
  },
  {
   "cell_type": "code",
   "execution_count": null,
   "id": "ffdef1fb",
   "metadata": {},
   "outputs": [],
   "source": []
  },
  {
   "cell_type": "code",
   "execution_count": null,
   "id": "4c2565e7",
   "metadata": {},
   "outputs": [],
   "source": []
  },
  {
   "cell_type": "code",
   "execution_count": null,
   "id": "e4715e7a",
   "metadata": {},
   "outputs": [],
   "source": []
  },
  {
   "cell_type": "code",
   "execution_count": null,
   "id": "1d9e06e4",
   "metadata": {},
   "outputs": [],
   "source": []
  }
 ],
 "metadata": {
  "kernelspec": {
   "display_name": "Python 3 (ipykernel)",
   "language": "python",
   "name": "python3"
  },
  "language_info": {
   "codemirror_mode": {
    "name": "ipython",
    "version": 3
   },
   "file_extension": ".py",
   "mimetype": "text/x-python",
   "name": "python",
   "nbconvert_exporter": "python",
   "pygments_lexer": "ipython3",
   "version": "3.7.0"
  }
 },
 "nbformat": 4,
 "nbformat_minor": 5
}
