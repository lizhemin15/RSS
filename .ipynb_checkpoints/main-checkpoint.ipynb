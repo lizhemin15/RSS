{
 "cells": [
  {
   "cell_type": "code",
   "execution_count": 1,
   "id": "9241b99b",
   "metadata": {},
   "outputs": [
    {
     "name": "stdout",
     "output_type": "stream",
     "text": [
      "net_p {'gpu_id': 3, 'net_name': 'composition', 'net_list': [{'net_name': 'TF', 'sizes': [10, 10], 'dim_cor': [10, 10, 3], 'mode': 'tensor'}, {'net_name': 'SIREN', 'dim_in': 3, 'w0_initial': 30, 'dim_hidden': 100, 'dim_out': 1, 'num_layers': 4, 'w0': 1, 'use_bias': True}]}\n",
      "reg_p {}\n",
      "data_p {'data_shape': (10, 10), 'random_rate': 0.5, 'pre_full': True, 'mask_type': 'random', 'data_path': None, 'data_type': 'syn', 'down_sample': [1, 1, 1], 'mask_path': None, 'mask_shape': 'same', 'seeds': 88, 'down_sample_rate': 2, 'noise_mode': None, 'noise_parameter': 0.0, 'x_mode': 'inr', 'batch_size': 128, 'shuffle_if': False, 'xrange': 1, 'ymode': 'completion', 'return_data_type': 'tensor', 'out_dim_one': True}\n",
      "opt_p {'net': {'opt_name': 'Adam', 'lr': 0.0001, 'weight_decay': 0}, 'reg': {'opt_name': 'Adam', 'lr': 0.0001, 'weight_decay': 0}}\n",
      "train_p {'train_epoch': 10, 'task_name': 'completion', 'loss_fn': 'mse'}\n",
      "show_p {'show_type': 'red_img', 'show_content': 'original'}\n",
      "save_p {}\n"
     ]
    },
    {
     "data": {
      "image/png": "[encoded data removed]",
      "text/plain": [
       "<Figure size 432x288 with 1 Axes>"
      ]
     },
     "metadata": {
      "needs_background": "light"
     },
     "output_type": "display_data"
    },
    {
     "name": "stdout",
     "output_type": "stream",
     "text": [
      "loss on test set 0.4169391989707947\n"
     ]
    },
    {
     "data": {
      "image/png": "[encoded data removed]",
      "text/plain": [
       "<Figure size 432x288 with 1 Axes>"
      ]
     },
     "metadata": {},
     "output_type": "display_data"
    },
    {
     "name": "stdout",
     "output_type": "stream",
     "text": [
      "loss on test set 0.3971797227859497\n"
     ]
    },
    {
     "data": {
      "image/png": "[encoded data removed]",
      "text/plain": [
       "<Figure size 432x288 with 1 Axes>"
      ]
     },
     "metadata": {},
     "output_type": "display_data"
    },
    {
     "name": "stdout",
     "output_type": "stream",
     "text": [
      "loss on test set 0.3655118942260742\n"
     ]
    },
    {
     "data": {
      "image/png": "[encoded data removed]",
      "text/plain": [
       "<Figure size 432x288 with 1 Axes>"
      ]
     },
     "metadata": {},
     "output_type": "display_data"
    },
    {
     "name": "stdout",
     "output_type": "stream",
     "text": [
      "loss on test set 0.30942821502685547\n"
     ]
    },
    {
     "data": {
      "image/png": "[encoded data removed]",
      "text/plain": [
       "<Figure size 432x288 with 1 Axes>"
      ]
     },
     "metadata": {},
     "output_type": "display_data"
    },
    {
     "name": "stdout",
     "output_type": "stream",
     "text": [
      "loss on test set 0.2598768174648285\n"
     ]
    },
    {
     "data": {
      "image/png": "[encoded data removed]",
      "text/plain": [
       "<Figure size 432x288 with 1 Axes>"
      ]
     },
     "metadata": {},
     "output_type": "display_data"
    },
    {
     "name": "stdout",
     "output_type": "stream",
     "text": [
      "loss on test set 0.23418694734573364\n"
     ]
    },
    {
     "data": {
      "image/png": "[encoded data removed]",
      "text/plain": [
       "<Figure size 432x288 with 1 Axes>"
      ]
     },
     "metadata": {},
     "output_type": "display_data"
    },
    {
     "name": "stdout",
     "output_type": "stream",
     "text": [
      "loss on test set 0.22875083982944489\n"
     ]
    },
    {
     "data": {
      "image/png": "[encoded data removed]",
      "text/plain": [
       "<Figure size 432x288 with 1 Axes>"
      ]
     },
     "metadata": {},
     "output_type": "display_data"
    },
    {
     "name": "stdout",
     "output_type": "stream",
     "text": [
      "loss on test set 0.22627466917037964\n"
     ]
    },
    {
     "data": {
      "image/png": "[encoded data removed]",
      "text/plain": [
       "<Figure size 432x288 with 1 Axes>"
      ]
     },
     "metadata": {},
     "output_type": "display_data"
    },
    {
     "name": "stdout",
     "output_type": "stream",
     "text": [
      "loss on test set 0.2252747267484665\n"
     ]
    },
    {
     "data": {
      "image/png": "[encoded data removed]",
      "text/plain": [
       "<Figure size 432x288 with 1 Axes>"
      ]
     },
     "metadata": {},
     "output_type": "display_data"
    },
    {
     "name": "stdout",
     "output_type": "stream",
     "text": [
      "loss on test set 0.22503966093063354\n"
     ]
    },
    {
     "data": {
      "image/png": "[encoded data removed]",
      "text/plain": [
       "<Figure size 432x288 with 1 Axes>"
      ]
     },
     "metadata": {},
     "output_type": "display_data"
    }
   ],
   "source": [
    "import rss\n",
    "\n",
    "parameters = {}\n",
    "net_list = []\n",
    "# net_list.append({'net_name':'DMF','sizes':[10,10,10]})\n",
    "net_list.append({'net_name':'TF','sizes':[10,10],'dim_cor':[10,10,3],'mode':'tensor'})\n",
    "net_list.append({'net_name':\"SIREN\",'dim_in':3,'w0_initial':30})\n",
    "# net_list.append({'net_name':\"SIREN\",'dim_in':2,'w0_initial':100})\n",
    "parameters['net_p'] = {'gpu_id':3,'net_name':'composition','net_list':net_list}\n",
    "parameters['data_p'] = {'data_shape':(10,10),'random_rate':0.5,\n",
    "                        'pre_full':True,'mask_type':'random'}\n",
    "parameters['train_p'] = {'train_epoch':10}\n",
    "parameters['show_p'] = {'show_type':'red_img','show_content':'original'}\n",
    "rssnet = rss.rssnet(parameters)\n",
    "rss.toolbox.save_json('./json/main_para.json',rssnet.parameter_all)\n",
    "\n",
    "rssnet.show()\n",
    "rssnet.show_p['show_content'] = 'recovered'\n",
    "for i in range(10):\n",
    "    rssnet.train()\n",
    "    rssnet.show()"
   ]
  },
  {
   "cell_type": "code",
   "execution_count": 12,
   "id": "b1a80f62",
   "metadata": {},
   "outputs": [
    {
     "data": {
      "text/plain": [
       "SirenNet(\n",
       "  (layers): ModuleList(\n",
       "    (0): Siren(\n",
       "      (activation): Sine()\n",
       "    )\n",
       "    (1): Siren(\n",
       "      (activation): Sine()\n",
       "    )\n",
       "    (2): Siren(\n",
       "      (activation): Sine()\n",
       "    )\n",
       "    (3): Siren(\n",
       "      (activation): Sine()\n",
       "    )\n",
       "  )\n",
       "  (last_layer): Siren(\n",
       "    (activation): Identity()\n",
       "  )\n",
       ")"
      ]
     },
     "execution_count": 12,
     "metadata": {},
     "output_type": "execute_result"
    }
   ],
   "source": [
    "rssnet.net.net_list[1]"
   ]
  },
  {
   "cell_type": "code",
   "execution_count": null,
   "id": "5f8e3665",
   "metadata": {},
   "outputs": [],
   "source": []
  },
  {
   "cell_type": "code",
   "execution_count": null,
   "id": "f57afd6a",
   "metadata": {},
   "outputs": [],
   "source": []
  },
  {
   "cell_type": "code",
   "execution_count": null,
   "id": "356724ac",
   "metadata": {},
   "outputs": [],
   "source": []
  },
  {
   "cell_type": "code",
   "execution_count": null,
   "id": "77c6ca0e",
   "metadata": {},
   "outputs": [],
   "source": []
  },
  {
   "cell_type": "code",
   "execution_count": null,
   "id": "717929dd",
   "metadata": {},
   "outputs": [],
   "source": []
  },
  {
   "cell_type": "code",
   "execution_count": 10,
   "id": "dd724d23",
   "metadata": {},
   "outputs": [
    {
     "data": {
      "text/plain": [
       "tensor([], dtype=torch.int64)"
      ]
     },
     "execution_count": 10,
     "metadata": {},
     "output_type": "execute_result"
    }
   ],
   "source": [
    "import torch as t\n",
    "import numpy as np\n",
    "\n",
    "\n",
    "a = t.tensor([[1,2],[3,4]])\n",
    "b = np.array([[1,2],[3,4]])\n",
    "\n",
    "(b==1).shape\n",
    "a.shape\n",
    "a[b==1]\n",
    "\n"
   ]
  },
  {
   "cell_type": "code",
   "execution_count": null,
   "id": "2c2633f9",
   "metadata": {},
   "outputs": [],
   "source": []
  },
  {
   "cell_type": "code",
   "execution_count": null,
   "id": "088c38dc",
   "metadata": {},
   "outputs": [],
   "source": []
  },
  {
   "cell_type": "code",
   "execution_count": null,
   "id": "94c18505",
   "metadata": {},
   "outputs": [],
   "source": []
  },
  {
   "cell_type": "code",
   "execution_count": null,
   "id": "45514c58",
   "metadata": {},
   "outputs": [],
   "source": []
  },
  {
   "cell_type": "code",
   "execution_count": null,
   "id": "17ac365a",
   "metadata": {},
   "outputs": [],
   "source": []
  },
  {
   "cell_type": "code",
   "execution_count": null,
   "id": "f52028a9",
   "metadata": {},
   "outputs": [],
   "source": []
  },
  {
   "cell_type": "code",
   "execution_count": null,
   "id": "50653019",
   "metadata": {},
   "outputs": [],
   "source": []
  },
  {
   "cell_type": "code",
   "execution_count": null,
   "id": "d3059c18",
   "metadata": {},
   "outputs": [],
   "source": []
  },
  {
   "cell_type": "code",
   "execution_count": null,
   "id": "0495fb48",
   "metadata": {},
   "outputs": [],
   "source": []
  },
  {
   "cell_type": "code",
   "execution_count": null,
   "id": "8056d80e",
   "metadata": {},
   "outputs": [],
   "source": []
  },
  {
   "cell_type": "code",
   "execution_count": null,
   "id": "f30e1cbf",
   "metadata": {},
   "outputs": [],
   "source": []
  },
  {
   "cell_type": "code",
   "execution_count": null,
   "id": "48e225c7",
   "metadata": {},
   "outputs": [],
   "source": []
  },
  {
   "cell_type": "code",
   "execution_count": null,
   "id": "23184135",
   "metadata": {},
   "outputs": [],
   "source": []
  },
  {
   "cell_type": "code",
   "execution_count": null,
   "id": "5054cfe9",
   "metadata": {},
   "outputs": [],
   "source": []
  },
  {
   "cell_type": "code",
   "execution_count": null,
   "id": "deb3365e",
   "metadata": {},
   "outputs": [],
   "source": []
  },
  {
   "cell_type": "code",
   "execution_count": null,
   "id": "f5807cf5",
   "metadata": {},
   "outputs": [],
   "source": []
  },
  {
   "cell_type": "code",
   "execution_count": 4,
   "id": "0dc795e2",
   "metadata": {},
   "outputs": [
    {
     "name": "stdout",
     "output_type": "stream",
     "text": [
      "torch.Size([65536])\n"
     ]
    }
   ],
   "source": [
    "for data in rssnet.data_train['train_loader']:\n",
    "    print(data[1].shape)"
   ]
  },
  {
   "cell_type": "code",
   "execution_count": 5,
   "id": "0bdad319",
   "metadata": {},
   "outputs": [
    {
     "name": "stdout",
     "output_type": "stream",
     "text": [
      "{'data_p': {'batch_size': 65536}}\n"
     ]
    }
   ],
   "source": [
    "import rss\n",
    "parameters = rss.toolbox.load_json('./json/main_para.json')\n",
    "print(parameters)"
   ]
  },
  {
   "cell_type": "code",
   "execution_count": null,
   "id": "da832ca4",
   "metadata": {},
   "outputs": [],
   "source": []
  },
  {
   "cell_type": "code",
   "execution_count": null,
   "id": "d28ceeb1",
   "metadata": {},
   "outputs": [],
   "source": []
  },
  {
   "cell_type": "code",
   "execution_count": null,
   "id": "1fc77a6d",
   "metadata": {},
   "outputs": [],
   "source": []
  },
  {
   "cell_type": "code",
   "execution_count": null,
   "id": "0ce9b4a7",
   "metadata": {},
   "outputs": [],
   "source": []
  }
 ],
 "metadata": {
  "kernelspec": {
   "display_name": "Python 3 (ipykernel)",
   "language": "python",
   "name": "python3"
  },
  "language_info": {
   "codemirror_mode": {
    "name": "ipython",
    "version": 3
   },
   "file_extension": ".py",
   "mimetype": "text/x-python",
   "name": "python",
   "nbconvert_exporter": "python",
   "pygments_lexer": "ipython3",
   "version": "3.8.3"
  },
  "vscode": {
   "interpreter": {
    "hash": "6bfba3d9cec53d1fa1d59f855399e26dded27ccf19705ae5a5112c9714ee83ae"
   }
  }
 },
 "nbformat": 4,
 "nbformat_minor": 5
}
