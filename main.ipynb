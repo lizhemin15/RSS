{
 "cells": [
  {
   "cell_type": "code",
   "execution_count": 1,
   "id": "9241b99b",
   "metadata": {},
   "outputs": [
    {
     "name": "stdout",
     "output_type": "stream",
     "text": [
      "data_p :  {'batch_size': 65536, 'data_path': None, 'data_type': 'syn', 'data_shape': (256, 256), 'down_sample': [1, 1, 1], 'mask_type': 'random', 'random_rate': 0.0, 'mask_path': None, 'mask_shape': 'same', 'seeds': 88, 'down_sample_rate': 2, 'noise_mode': None, 'noise_parameter': 0.0, 'x_mode': 'inr', 'shuffle_if': False, 'xrange': 1, 'ymode': 'completion'}\n",
      "torch.Size([65536, 2]) torch.Size([65536]) torch.Size([256, 256])\n",
      "SirenNet(\n",
      "  (layers): ModuleList(\n",
      "    (0): Siren(\n",
      "      (activation): Sine()\n",
      "    )\n",
      "    (1): Siren(\n",
      "      (activation): Sine()\n",
      "    )\n",
      "    (2): Siren(\n",
      "      (activation): Sine()\n",
      "    )\n",
      "    (3): Siren(\n",
      "      (activation): Sine()\n",
      "    )\n",
      "  )\n",
      "  (last_layer): Siren(\n",
      "    (activation): Identity()\n",
      "  )\n",
      ")\n",
      "{'train_loader': <torch.utils.data.dataloader.DataLoader object at 0x000001EDA40865F8>, 'val_loader': <torch.utils.data.dataloader.DataLoader object at 0x000001EDA40867B8>, 'test_loader': <torch.utils.data.dataloader.DataLoader object at 0x000001EDA40867F0>}\n"
     ]
    }
   ],
   "source": [
    "import rss\n",
    "import numpy as np\n",
    "\n",
    "parameters = {}\n",
    "parameters['data_p'] = {'batch_size': 256**2}\n",
    "rss.toolbox.save_json('./json/main_para.json',parameters)\n",
    "\n",
    "rssnet = rss.rssnet(parameters)\n",
    "print(rssnet.net)\n",
    "print(rssnet.data_train)"
   ]
  },
  {
   "cell_type": "code",
   "execution_count": 4,
   "id": "0dc795e2",
   "metadata": {},
   "outputs": [
    {
     "name": "stdout",
     "output_type": "stream",
     "text": [
      "torch.Size([65536])\n"
     ]
    }
   ],
   "source": [
    "for data in rssnet.data_train['train_loader']:\n",
    "    print(data[1].shape)"
   ]
  },
  {
   "cell_type": "code",
   "execution_count": 5,
   "id": "0bdad319",
   "metadata": {},
   "outputs": [
    {
     "name": "stdout",
     "output_type": "stream",
     "text": [
      "{'data_p': {'batch_size': 65536}}\n"
     ]
    }
   ],
   "source": [
    "import rss\n",
    "parameters = rss.toolbox.load_json('./json/main_para.json')\n",
    "print(parameters)"
   ]
  },
  {
   "cell_type": "code",
   "execution_count": null,
   "id": "da832ca4",
   "metadata": {},
   "outputs": [],
   "source": []
  },
  {
   "cell_type": "code",
   "execution_count": null,
   "id": "d28ceeb1",
   "metadata": {},
   "outputs": [],
   "source": []
  },
  {
   "cell_type": "code",
   "execution_count": null,
   "id": "1fc77a6d",
   "metadata": {},
   "outputs": [],
   "source": []
  },
  {
   "cell_type": "code",
   "execution_count": null,
   "id": "0ce9b4a7",
   "metadata": {},
   "outputs": [],
   "source": []
  }
 ],
 "metadata": {
  "kernelspec": {
   "display_name": "Python 3 (ipykernel)",
   "language": "python",
   "name": "python3"
  },
  "language_info": {
   "codemirror_mode": {
    "name": "ipython",
    "version": 3
   },
   "file_extension": ".py",
   "mimetype": "text/x-python",
   "name": "python",
   "nbconvert_exporter": "python",
   "pygments_lexer": "ipython3",
   "version": "3.7.0"
  }
 },
 "nbformat": 4,
 "nbformat_minor": 5
}
