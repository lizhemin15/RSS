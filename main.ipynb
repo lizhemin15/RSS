{
 "cells": [
  {
   "cell_type": "code",
   "execution_count": 1,
   "id": "9241b99b",
   "metadata": {},
   "outputs": [
    {
     "name": "stdout",
     "output_type": "stream",
     "text": [
      "net_p : {'net_name': 'MLP'}\n",
      "noise_p : b\n",
      "reg_p : {'s': 1}\n",
      "data_p : None\n",
      "task_p : None\n",
      "train_p : None\n",
      "show_p : None\n",
      "save_p : None\n",
      "INR(\n",
      "  (layers): ModuleList(\n",
      "    (0): Layer()\n",
      "    (1): Layer()\n",
      "    (2): Layer()\n",
      "    (3): Layer()\n",
      "  )\n",
      "  (last_layer): Layer()\n",
      ")\n"
     ]
    }
   ],
   "source": [
    "import rss\n",
    "\n",
    "parameters = {}\n",
    "\n",
    "parameters['net_p']={'net_name':'MLP'}\n",
    "rss.toolbox.save_json('./json/main_para.json',parameters)\n",
    "\n",
    "rssnet = rss.rssnet(parameters)\n",
    "print(rssnet.net)"
   ]
  },
  {
   "cell_type": "code",
   "execution_count": 2,
   "id": "0bdad319",
   "metadata": {},
   "outputs": [
    {
     "name": "stdout",
     "output_type": "stream",
     "text": [
      "{'net_p': {'net_name': 'MLP'}}\n"
     ]
    }
   ],
   "source": [
    "import rss\n",
    "parameters = rss.toolbox.load_json('./json/main_para.json')\n",
    "print(parameters)"
   ]
  },
  {
   "cell_type": "code",
   "execution_count": null,
   "id": "da832ca4",
   "metadata": {},
   "outputs": [],
   "source": []
  },
  {
   "cell_type": "code",
   "execution_count": null,
   "id": "d28ceeb1",
   "metadata": {},
   "outputs": [],
   "source": []
  },
  {
   "cell_type": "code",
   "execution_count": null,
   "id": "1fc77a6d",
   "metadata": {},
   "outputs": [],
   "source": []
  },
  {
   "cell_type": "code",
   "execution_count": null,
   "id": "0ce9b4a7",
   "metadata": {},
   "outputs": [],
   "source": []
  }
 ],
 "metadata": {
  "kernelspec": {
   "display_name": "Python 3 (ipykernel)",
   "language": "python",
   "name": "python3"
  },
  "language_info": {
   "codemirror_mode": {
    "name": "ipython",
    "version": 3
   },
   "file_extension": ".py",
   "mimetype": "text/x-python",
   "name": "python",
   "nbconvert_exporter": "python",
   "pygments_lexer": "ipython3",
   "version": "3.7.0"
  }
 },
 "nbformat": 4,
 "nbformat_minor": 5
}
