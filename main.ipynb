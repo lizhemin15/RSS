{
 "cells": [
  {
   "cell_type": "code",
   "execution_count": 3,
   "id": "9241b99b",
   "metadata": {},
   "outputs": [
    {
     "ename": "ModuleNotFoundError",
     "evalue": "No module named 'rss'",
     "output_type": "error",
     "traceback": [
      "\u001b[0;31m---------------------------------------------------------------------------\u001b[0m",
      "\u001b[0;31mModuleNotFoundError\u001b[0m                       Traceback (most recent call last)",
      "\u001b[1;32mc:\\jamily\\github\\RSS\\main.ipynb 单元格 1\u001b[0m in \u001b[0;36m<cell line: 1>\u001b[0;34m()\u001b[0m\n\u001b[0;32m----> <a href='vscode-notebook-cell:/c%3A/jamily/github/RSS/main.ipynb#W0sZmlsZQ%3D%3D?line=0'>1</a>\u001b[0m \u001b[39mimport\u001b[39;00m \u001b[39mrss\u001b[39;00m\n\u001b[1;32m      <a href='vscode-notebook-cell:/c%3A/jamily/github/RSS/main.ipynb#W0sZmlsZQ%3D%3D?line=1'>2</a>\u001b[0m \u001b[39mimport\u001b[39;00m \u001b[39mnumpy\u001b[39;00m \u001b[39mas\u001b[39;00m \u001b[39mnp\u001b[39;00m\n\u001b[1;32m      <a href='vscode-notebook-cell:/c%3A/jamily/github/RSS/main.ipynb#W0sZmlsZQ%3D%3D?line=3'>4</a>\u001b[0m parameters \u001b[39m=\u001b[39m {}\n",
      "\u001b[0;31mModuleNotFoundError\u001b[0m: No module named 'rss'"
     ]
    }
   ],
   "source": [
    "import rss\n",
    "import numpy as np\n",
    "\n",
    "parameters = {}\n",
    "parameters['data_p'] = {'batch_size': 256**2}\n",
    "rss.toolbox.save_json('./json/main_para.json',parameters)\n",
    "\n",
    "rssnet = rss.rssnet(parameters)\n",
    "# print(rssnet.net)\n",
    "# print(rssnet.data_train['train_tensor'][0].shape)\n",
    "# print(rssnet.net_opt)\n",
    "rssnet.train()"
   ]
  },
  {
   "cell_type": "code",
   "execution_count": 4,
   "id": "21e50fad",
   "metadata": {},
   "outputs": [
    {
     "name": "stdout",
     "output_type": "stream",
     "text": [
      "\u001b[0m\u001b[34;42mManim\u001b[0m/  \u001b[01;34mdrawapp\u001b[0m/   \u001b[34;42mfastapi\u001b[0m/  \u001b[01;34mhxl\u001b[0m/                  \u001b[01;34mlx\u001b[0m/     \u001b[01;34mmv2slides\u001b[0m/  \u001b[01;34mrgy\u001b[0m/\n",
      "cp.sh   \u001b[34;42mexplorer\u001b[0m/  \u001b[01;34mhsl\u001b[0m/      label_studio.sqlite3  \u001b[01;34mlzm\u001b[0m/    \u001b[01;34mnotionai\u001b[0m/   \u001b[01;34mstabai\u001b[0m/\n",
      "\u001b[01;34mdata\u001b[0m/   \u001b[01;34mexport\u001b[0m/    \u001b[01;34mhtml\u001b[0m/     \u001b[01;34mlhc\u001b[0m/                  \u001b[01;34mmedia\u001b[0m/  \u001b[01;34moctave\u001b[0m/     \u001b[01;34mzj\u001b[0m/\n"
     ]
    }
   ],
   "source": [
    "ls"
   ]
  },
  {
   "cell_type": "code",
   "execution_count": 4,
   "id": "0dc795e2",
   "metadata": {},
   "outputs": [
    {
     "name": "stdout",
     "output_type": "stream",
     "text": [
      "torch.Size([65536])\n"
     ]
    }
   ],
   "source": [
    "for data in rssnet.data_train['train_loader']:\n",
    "    print(data[1].shape)"
   ]
  },
  {
   "cell_type": "code",
   "execution_count": 5,
   "id": "0bdad319",
   "metadata": {},
   "outputs": [
    {
     "name": "stdout",
     "output_type": "stream",
     "text": [
      "{'data_p': {'batch_size': 65536}}\n"
     ]
    }
   ],
   "source": [
    "import rss\n",
    "parameters = rss.toolbox.load_json('./json/main_para.json')\n",
    "print(parameters)"
   ]
  },
  {
   "cell_type": "code",
   "execution_count": null,
   "id": "da832ca4",
   "metadata": {},
   "outputs": [],
   "source": []
  },
  {
   "cell_type": "code",
   "execution_count": null,
   "id": "d28ceeb1",
   "metadata": {},
   "outputs": [],
   "source": []
  },
  {
   "cell_type": "code",
   "execution_count": null,
   "id": "1fc77a6d",
   "metadata": {},
   "outputs": [],
   "source": []
  },
  {
   "cell_type": "code",
   "execution_count": null,
   "id": "0ce9b4a7",
   "metadata": {},
   "outputs": [],
   "source": []
  }
 ],
 "metadata": {
  "kernelspec": {
   "display_name": "Python 3 (ipykernel)",
   "language": "python",
   "name": "python3"
  },
  "language_info": {
   "codemirror_mode": {
    "name": "ipython",
    "version": 3
   },
   "file_extension": ".py",
   "mimetype": "text/x-python",
   "name": "python",
   "nbconvert_exporter": "python",
   "pygments_lexer": "ipython3",
   "version": "3.8.3"
  }
 },
 "nbformat": 4,
 "nbformat_minor": 5
}
